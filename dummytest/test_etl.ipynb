{
 "cells": [
  {
   "cell_type": "code",
   "execution_count": 235,
   "metadata": {},
   "outputs": [],
   "source": [
    "import yfinance as yf\n",
    "from apify_client import ApifyClient\n",
    "import pandas as pd\n",
    "from sklearn.preprocessing import MinMaxScaler\n"
   ]
  },
  {
   "cell_type": "markdown",
   "metadata": {},
   "source": [
    "# Fetch Stock Data"
   ]
  },
  {
   "cell_type": "code",
   "execution_count": 285,
   "metadata": {},
   "outputs": [],
   "source": [
    "def get_stocksData(tickers_name, start_date= None):\n",
    "    global df_finalStock\n",
    "    df_finalStock= pd.DataFrame()\n",
    "\n",
    "    for index,stock in enumerate(tickers_name):\n",
    "        ticker= yf.Ticker(stock)\n",
    "        ticker_stock = ticker.history(period='1mo', start= pd.to_datetime(start_date))\n",
    "        ticker_stock['day']= ticker_stock.index.day\n",
    "        ticker_stock['month']= ticker_stock.index.month\n",
    "        ticker_stock['year']= ticker_stock.index.year\n",
    "        ticker_stock['dateTime']= pd.to_datetime(ticker_stock[['year', 'month', 'day']])\n",
    "        ticker_stock= ticker_stock.set_index(keys='dateTime')\n",
    "        ticker_stock= ticker_stock[['Close']]\n",
    "        ticker_stock.columns= [stock]\n",
    "        ticker_stock= pd.DataFrame(ticker_stock)    \n",
    "\n",
    "        if index == 0:\n",
    "            df_finalStock= pd.DataFrame(ticker_stock)\n",
    "        else:\n",
    "            df_finalStock= pd.merge(df_finalStock, ticker_stock, left_index= True, right_index= True)\n",
    "                    \n",
    "    \n",
    "    \n"
   ]
  },
  {
   "cell_type": "markdown",
   "metadata": {},
   "source": [
    "# Fetch Trends Data"
   ]
  },
  {
   "cell_type": "code",
   "execution_count": 238,
   "metadata": {},
   "outputs": [],
   "source": [
    "def get_trendsData(keywords ,API_TOKEN= 'apify_api_EvEL4Oawoze0LxkvZ831rW4SQYunIv1Iku30'):    \n",
    "    global df_finalTrends\n",
    "    client = ApifyClient(API_TOKEN)\n",
    "    df_finalTrends = pd.DataFrame()\n",
    "\n",
    "    for j, trend in enumerate(keywords):\n",
    "        run_input = {\n",
    "            \"searchTerms\": [trend],\n",
    "            \"isMultiple\": False,\n",
    "            \"timeRange\": \"today 1-m\",\n",
    "            \"geo\": \"\",\n",
    "            \"viewedFrom\": \"id\",\n",
    "            \"skipDebugScreen\": False,\n",
    "            \"isPublic\": False,\n",
    "            \"category\": \"\",\n",
    "            \"maxItems\": 0,\n",
    "            \"extendOutputFunction\": \"\"\"($) => {\n",
    "            const result = {};\n",
    "\n",
    "            return result;\n",
    "        }\"\"\",\n",
    "            \"outputAsISODate\": True,\n",
    "            \"csvOutput\": False,\n",
    "            \"maxConcurrency\": 10,\n",
    "            \"maxRequestRetries\": 15,\n",
    "            \"pageLoadTimeoutSecs\": 180,\n",
    "        }\n",
    "\n",
    "        run = client.actor(\"DyNQEYDj9awfGQf9A\").call(run_input=run_input)\n",
    "\n",
    "        items_list = []\n",
    "\n",
    "        for item in client.dataset(run[\"defaultDatasetId\"]).iterate_items():\n",
    "            row = {}\n",
    "            for key, value in item.items():\n",
    "                row['Key'] = key\n",
    "                row['Value'] = value\n",
    "                items_list.append(row.copy())\n",
    "\n",
    "        df_trend = pd.DataFrame(items_list)\n",
    "        df_trend.columns = df_trend.iloc[0]\n",
    "        df_trend = df_trend[1:]\n",
    "        df_trend = df_trend.reset_index(drop=True)\n",
    "\n",
    "        df_trend['Term / Date'] = pd.to_datetime(df_trend['Term / Date'])\n",
    "        df_trend['day'] = df_trend['Term / Date'].dt.day\n",
    "        df_trend['month'] = df_trend['Term / Date'].dt.month\n",
    "        df_trend['year'] = df_trend['Term / Date'].dt.year\n",
    "        df_trend['datetime'] = pd.to_datetime(df_trend[['year', 'month', 'day']])\n",
    "        df_trend = df_trend.set_index('datetime')\n",
    "        df_trend = df_trend[[trend]]\n",
    "\n",
    "        if j == 0:\n",
    "            df_finalTrends = df_trend\n",
    "        else:\n",
    "            df_finalTrends = pd.merge(df_finalTrends, df_trend, left_index=True, right_index=True)\n",
    "\n"
   ]
  },
  {
   "cell_type": "markdown",
   "metadata": {},
   "source": [
    "# Transformation"
   ]
  },
  {
   "cell_type": "code",
   "execution_count": 277,
   "metadata": {},
   "outputs": [],
   "source": [
    "def merging_Datasets(dataFrame1, dataFrame2):\n",
    "    global merged_dataFrame\n",
    "    merged_dataFrame= pd.merge(dataFrame1, dataFrame2, left_index=True, right_index= True)\n",
    "\n",
    "    for col in merged_dataFrame.columns:\n",
    "        merged_dataFrame[col]= merged_dataFrame[col].astype('float64')\n",
    "\n",
    "    scaler = MinMaxScaler(feature_range= (0,100))\n",
    "    merged_dataFrame[merged_dataFrame.columns]= scaler.fit_transform(merged_dataFrame[merged_dataFrame.columns])\n",
    "    "
   ]
  },
  {
   "cell_type": "code",
   "execution_count": null,
   "metadata": {},
   "outputs": [],
   "source": [
    "kataKunci = ['israel', 'boikot']\n",
    "\n",
    "get_trendsData(keywords= kataKunci)"
   ]
  },
  {
   "cell_type": "code",
   "execution_count": 287,
   "metadata": {},
   "outputs": [
    {
     "data": {
      "text/html": [
       "<div>\n",
       "<style scoped>\n",
       "    .dataframe tbody tr th:only-of-type {\n",
       "        vertical-align: middle;\n",
       "    }\n",
       "\n",
       "    .dataframe tbody tr th {\n",
       "        vertical-align: top;\n",
       "    }\n",
       "\n",
       "    .dataframe thead th {\n",
       "        text-align: right;\n",
       "    }\n",
       "</style>\n",
       "<table border=\"1\" class=\"dataframe\">\n",
       "  <thead>\n",
       "    <tr style=\"text-align: right;\">\n",
       "      <th></th>\n",
       "      <th>MAPI.JK</th>\n",
       "      <th>MAPB.JK</th>\n",
       "      <th>FAST.JK</th>\n",
       "    </tr>\n",
       "    <tr>\n",
       "      <th>dateTime</th>\n",
       "      <th></th>\n",
       "      <th></th>\n",
       "      <th></th>\n",
       "    </tr>\n",
       "  </thead>\n",
       "  <tbody>\n",
       "    <tr>\n",
       "      <th>2023-09-01</th>\n",
       "      <td>1975.0</td>\n",
       "      <td>2140.0</td>\n",
       "      <td>810.0</td>\n",
       "    </tr>\n",
       "    <tr>\n",
       "      <th>2023-09-04</th>\n",
       "      <td>1980.0</td>\n",
       "      <td>2100.0</td>\n",
       "      <td>810.0</td>\n",
       "    </tr>\n",
       "    <tr>\n",
       "      <th>2023-09-05</th>\n",
       "      <td>1960.0</td>\n",
       "      <td>2090.0</td>\n",
       "      <td>810.0</td>\n",
       "    </tr>\n",
       "    <tr>\n",
       "      <th>2023-09-06</th>\n",
       "      <td>1900.0</td>\n",
       "      <td>2090.0</td>\n",
       "      <td>810.0</td>\n",
       "    </tr>\n",
       "    <tr>\n",
       "      <th>2023-09-07</th>\n",
       "      <td>1840.0</td>\n",
       "      <td>2090.0</td>\n",
       "      <td>810.0</td>\n",
       "    </tr>\n",
       "  </tbody>\n",
       "</table>\n",
       "</div>"
      ],
      "text/plain": [
       "            MAPI.JK  MAPB.JK  FAST.JK\n",
       "dateTime                             \n",
       "2023-09-01   1975.0   2140.0    810.0\n",
       "2023-09-04   1980.0   2100.0    810.0\n",
       "2023-09-05   1960.0   2090.0    810.0\n",
       "2023-09-06   1900.0   2090.0    810.0\n",
       "2023-09-07   1840.0   2090.0    810.0"
      ]
     },
     "execution_count": 287,
     "metadata": {},
     "output_type": "execute_result"
    }
   ],
   "source": [
    "tickers= ['MAPI.JK', 'MAPB.JK','FAST.JK']\n",
    "\n",
    "get_stocksData(tickers, '2023-09-01')\n",
    "df_finalStock.head()"
   ]
  },
  {
   "cell_type": "code",
   "execution_count": 296,
   "metadata": {},
   "outputs": [
    {
     "name": "stdout",
     "output_type": "stream",
     "text": [
      "<class 'pandas.core.frame.DataFrame'>\n",
      "DatetimeIndex: 62 entries, 2023-09-01 to 2023-11-28\n",
      "Data columns (total 3 columns):\n",
      " #   Column   Non-Null Count  Dtype  \n",
      "---  ------   --------------  -----  \n",
      " 0   MAPI.JK  62 non-null     float64\n",
      " 1   MAPB.JK  62 non-null     float64\n",
      " 2   FAST.JK  62 non-null     float64\n",
      "dtypes: float64(3)\n",
      "memory usage: 4.0 KB\n"
     ]
    }
   ],
   "source": [
    "merging_Datasets(df_finalStock,df_finalTrends)\n",
    "df_finalStock.info()"
   ]
  },
  {
   "cell_type": "code",
   "execution_count": 297,
   "metadata": {},
   "outputs": [
    {
     "data": {
      "text/html": [
       "<div>\n",
       "<style scoped>\n",
       "    .dataframe tbody tr th:only-of-type {\n",
       "        vertical-align: middle;\n",
       "    }\n",
       "\n",
       "    .dataframe tbody tr th {\n",
       "        vertical-align: top;\n",
       "    }\n",
       "\n",
       "    .dataframe thead th {\n",
       "        text-align: right;\n",
       "    }\n",
       "</style>\n",
       "<table border=\"1\" class=\"dataframe\">\n",
       "  <thead>\n",
       "    <tr style=\"text-align: right;\">\n",
       "      <th></th>\n",
       "      <th>MAPI.JK</th>\n",
       "      <th>MAPB.JK</th>\n",
       "      <th>FAST.JK</th>\n",
       "    </tr>\n",
       "    <tr>\n",
       "      <th>dateTime</th>\n",
       "      <th></th>\n",
       "      <th></th>\n",
       "      <th></th>\n",
       "    </tr>\n",
       "  </thead>\n",
       "  <tbody>\n",
       "    <tr>\n",
       "      <th>2023-09-01</th>\n",
       "      <td>1975.0</td>\n",
       "      <td>2140.0</td>\n",
       "      <td>810.0</td>\n",
       "    </tr>\n",
       "    <tr>\n",
       "      <th>2023-09-04</th>\n",
       "      <td>1980.0</td>\n",
       "      <td>2100.0</td>\n",
       "      <td>810.0</td>\n",
       "    </tr>\n",
       "    <tr>\n",
       "      <th>2023-09-05</th>\n",
       "      <td>1960.0</td>\n",
       "      <td>2090.0</td>\n",
       "      <td>810.0</td>\n",
       "    </tr>\n",
       "    <tr>\n",
       "      <th>2023-09-06</th>\n",
       "      <td>1900.0</td>\n",
       "      <td>2090.0</td>\n",
       "      <td>810.0</td>\n",
       "    </tr>\n",
       "    <tr>\n",
       "      <th>2023-09-07</th>\n",
       "      <td>1840.0</td>\n",
       "      <td>2090.0</td>\n",
       "      <td>810.0</td>\n",
       "    </tr>\n",
       "  </tbody>\n",
       "</table>\n",
       "</div>"
      ],
      "text/plain": [
       "            MAPI.JK  MAPB.JK  FAST.JK\n",
       "dateTime                             \n",
       "2023-09-01   1975.0   2140.0    810.0\n",
       "2023-09-04   1980.0   2100.0    810.0\n",
       "2023-09-05   1960.0   2090.0    810.0\n",
       "2023-09-06   1900.0   2090.0    810.0\n",
       "2023-09-07   1840.0   2090.0    810.0"
      ]
     },
     "execution_count": 297,
     "metadata": {},
     "output_type": "execute_result"
    }
   ],
   "source": [
    "df_finalStock.head()"
   ]
  },
  {
   "cell_type": "code",
   "execution_count": 295,
   "metadata": {},
   "outputs": [
    {
     "data": {
      "text/plain": [
       "<Axes: xlabel='dateTime'>"
      ]
     },
     "execution_count": 295,
     "metadata": {},
     "output_type": "execute_result"
    },
    {
     "data": {
      "image/png": "[encoded data removed]",
      "text/plain": [
       "<Figure size 432x288 with 1 Axes>"
      ]
     },
     "metadata": {
      "needs_background": "light"
     },
     "output_type": "display_data"
    }
   ],
   "source": [
    "\n",
    "df_finalStock[['MAPI.JK', 'MAPB.JK']].plot()"
   ]
  },
  {
   "cell_type": "code",
   "execution_count": 281,
   "metadata": {},
   "outputs": [
    {
     "data": {
      "text/html": [
       "<div>\n",
       "<style scoped>\n",
       "    .dataframe tbody tr th:only-of-type {\n",
       "        vertical-align: middle;\n",
       "    }\n",
       "\n",
       "    .dataframe tbody tr th {\n",
       "        vertical-align: top;\n",
       "    }\n",
       "\n",
       "    .dataframe thead th {\n",
       "        text-align: right;\n",
       "    }\n",
       "</style>\n",
       "<table border=\"1\" class=\"dataframe\">\n",
       "  <thead>\n",
       "    <tr style=\"text-align: right;\">\n",
       "      <th></th>\n",
       "      <th>MAPI.JK</th>\n",
       "      <th>MAPB.JK</th>\n",
       "      <th>FAST.JK</th>\n",
       "      <th>israel</th>\n",
       "      <th>boikot</th>\n",
       "    </tr>\n",
       "  </thead>\n",
       "  <tbody>\n",
       "    <tr>\n",
       "      <th>MAPI.JK</th>\n",
       "      <td>1.000000</td>\n",
       "      <td>-0.124893</td>\n",
       "      <td>0.467118</td>\n",
       "      <td>-0.084140</td>\n",
       "      <td>-0.461185</td>\n",
       "    </tr>\n",
       "    <tr>\n",
       "      <th>MAPB.JK</th>\n",
       "      <td>-0.124893</td>\n",
       "      <td>1.000000</td>\n",
       "      <td>-0.310445</td>\n",
       "      <td>-0.444682</td>\n",
       "      <td>0.173803</td>\n",
       "    </tr>\n",
       "    <tr>\n",
       "      <th>FAST.JK</th>\n",
       "      <td>0.467118</td>\n",
       "      <td>-0.310445</td>\n",
       "      <td>1.000000</td>\n",
       "      <td>0.243156</td>\n",
       "      <td>-0.264995</td>\n",
       "    </tr>\n",
       "    <tr>\n",
       "      <th>israel</th>\n",
       "      <td>-0.084140</td>\n",
       "      <td>-0.444682</td>\n",
       "      <td>0.243156</td>\n",
       "      <td>1.000000</td>\n",
       "      <td>-0.103479</td>\n",
       "    </tr>\n",
       "    <tr>\n",
       "      <th>boikot</th>\n",
       "      <td>-0.461185</td>\n",
       "      <td>0.173803</td>\n",
       "      <td>-0.264995</td>\n",
       "      <td>-0.103479</td>\n",
       "      <td>1.000000</td>\n",
       "    </tr>\n",
       "  </tbody>\n",
       "</table>\n",
       "</div>"
      ],
      "text/plain": [
       "          MAPI.JK   MAPB.JK   FAST.JK    israel    boikot\n",
       "MAPI.JK  1.000000 -0.124893  0.467118 -0.084140 -0.461185\n",
       "MAPB.JK -0.124893  1.000000 -0.310445 -0.444682  0.173803\n",
       "FAST.JK  0.467118 -0.310445  1.000000  0.243156 -0.264995\n",
       "israel  -0.084140 -0.444682  0.243156  1.000000 -0.103479\n",
       "boikot  -0.461185  0.173803 -0.264995 -0.103479  1.000000"
      ]
     },
     "execution_count": 281,
     "metadata": {},
     "output_type": "execute_result"
    }
   ],
   "source": [
    "merged_dataFrame.corr()"
   ]
  }
 ],
 "metadata": {
  "kernelspec": {
   "display_name": "Python 3",
   "language": "python",
   "name": "python3"
  },
  "language_info": {
   "codemirror_mode": {
    "name": "ipython",
    "version": 3
   },
   "file_extension": ".py",
   "mimetype": "text/x-python",
   "name": "python",
   "nbconvert_exporter": "python",
   "pygments_lexer": "ipython3",
   "version": "3.9.6"
  }
 },
 "nbformat": 4,
 "nbformat_minor": 2
}
