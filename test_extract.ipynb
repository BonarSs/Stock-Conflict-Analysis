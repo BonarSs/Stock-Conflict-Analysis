{
 "cells": [
  {
   "cell_type": "code",
   "execution_count": 7,
   "metadata": {},
   "outputs": [],
   "source": [
    "import pandas as pd\n",
    "import numpy as np\n",
    "import yfinance as yf"
   ]
  },
  {
   "cell_type": "code",
   "execution_count": 8,
   "metadata": {},
   "outputs": [
    {
     "name": "stdout",
     "output_type": "stream",
     "text": [
      "<class 'pandas.core.frame.DataFrame'>\n"
     ]
    }
   ],
   "source": [
    "MCD = yf.Ticker('MCD')\n",
    "\n",
    "df_MCD = MCD.history(period='ytd',interval= '1d')\n",
    "print(type(df_MCD))"
   ]
  },
  {
   "cell_type": "code",
   "execution_count": 9,
   "metadata": {},
   "outputs": [
    {
     "name": "stdout",
     "output_type": "stream",
     "text": [
      "<class 'pandas.core.frame.DataFrame'>\n",
      "DatetimeIndex: 225 entries, 2023-01-03 00:00:00-05:00 to 2023-11-22 00:00:00-05:00\n",
      "Data columns (total 7 columns):\n",
      " #   Column        Non-Null Count  Dtype  \n",
      "---  ------        --------------  -----  \n",
      " 0   Open          225 non-null    float64\n",
      " 1   High          225 non-null    float64\n",
      " 2   Low           225 non-null    float64\n",
      " 3   Close         225 non-null    float64\n",
      " 4   Volume        225 non-null    int64  \n",
      " 5   Dividends     225 non-null    float64\n",
      " 6   Stock Splits  225 non-null    float64\n",
      "dtypes: float64(6), int64(1)\n",
      "memory usage: 14.1 KB\n"
     ]
    }
   ],
   "source": [
    "df_MCD.info()"
   ]
  },
  {
   "cell_type": "code",
   "execution_count": 10,
   "metadata": {},
   "outputs": [
    {
     "name": "stdout",
     "output_type": "stream",
     "text": [
      "['Open', 'High', 'Low', 'Close', 'Volume', 'Dividends', 'Stock Splits']\n"
     ]
    }
   ],
   "source": [
    "MCD_cols = df_MCD.columns.tolist() \n",
    "print(MCD_cols)"
   ]
  },
  {
   "cell_type": "markdown",
   "metadata": {},
   "source": [
    "### Liat isi kolom Dividends"
   ]
  },
  {
   "cell_type": "code",
   "execution_count": 11,
   "metadata": {},
   "outputs": [
    {
     "name": "stdout",
     "output_type": "stream",
     "text": [
      "[0.   1.52]\n",
      "[0.]\n"
     ]
    }
   ],
   "source": [
    "for col in MCD_cols[-2:]:\n",
    "    print(df_MCD[col].unique())"
   ]
  },
  {
   "cell_type": "code",
   "execution_count": 12,
   "metadata": {},
   "outputs": [
    {
     "data": {
      "text/html": [
       "<div>\n",
       "<style scoped>\n",
       "    .dataframe tbody tr th:only-of-type {\n",
       "        vertical-align: middle;\n",
       "    }\n",
       "\n",
       "    .dataframe tbody tr th {\n",
       "        vertical-align: top;\n",
       "    }\n",
       "\n",
       "    .dataframe thead th {\n",
       "        text-align: right;\n",
       "    }\n",
       "</style>\n",
       "<table border=\"1\" class=\"dataframe\">\n",
       "  <thead>\n",
       "    <tr style=\"text-align: right;\">\n",
       "      <th></th>\n",
       "      <th>Open</th>\n",
       "      <th>High</th>\n",
       "      <th>Low</th>\n",
       "      <th>Close</th>\n",
       "      <th>Volume</th>\n",
       "      <th>Dividends</th>\n",
       "      <th>Stock Splits</th>\n",
       "    </tr>\n",
       "    <tr>\n",
       "      <th>Date</th>\n",
       "      <th></th>\n",
       "      <th></th>\n",
       "      <th></th>\n",
       "      <th></th>\n",
       "      <th></th>\n",
       "      <th></th>\n",
       "      <th></th>\n",
       "    </tr>\n",
       "  </thead>\n",
       "  <tbody>\n",
       "  </tbody>\n",
       "</table>\n",
       "</div>"
      ],
      "text/plain": [
       "Empty DataFrame\n",
       "Columns: [Open, High, Low, Close, Volume, Dividends, Stock Splits]\n",
       "Index: []"
      ]
     },
     "execution_count": 12,
     "metadata": {},
     "output_type": "execute_result"
    }
   ],
   "source": [
    "df_MCD[df_MCD['Dividends'] == 0.53]"
   ]
  },
  {
   "cell_type": "code",
   "execution_count": 13,
   "metadata": {},
   "outputs": [
    {
     "data": {
      "text/html": [
       "<div>\n",
       "<style scoped>\n",
       "    .dataframe tbody tr th:only-of-type {\n",
       "        vertical-align: middle;\n",
       "    }\n",
       "\n",
       "    .dataframe tbody tr th {\n",
       "        vertical-align: top;\n",
       "    }\n",
       "\n",
       "    .dataframe thead th {\n",
       "        text-align: right;\n",
       "    }\n",
       "</style>\n",
       "<table border=\"1\" class=\"dataframe\">\n",
       "  <thead>\n",
       "    <tr style=\"text-align: right;\">\n",
       "      <th></th>\n",
       "      <th>Open</th>\n",
       "      <th>High</th>\n",
       "      <th>Low</th>\n",
       "      <th>Close</th>\n",
       "      <th>Volume</th>\n",
       "      <th>Dividends</th>\n",
       "      <th>Stock Splits</th>\n",
       "    </tr>\n",
       "    <tr>\n",
       "      <th>Date</th>\n",
       "      <th></th>\n",
       "      <th></th>\n",
       "      <th></th>\n",
       "      <th></th>\n",
       "      <th></th>\n",
       "      <th></th>\n",
       "      <th></th>\n",
       "    </tr>\n",
       "  </thead>\n",
       "  <tbody>\n",
       "  </tbody>\n",
       "</table>\n",
       "</div>"
      ],
      "text/plain": [
       "Empty DataFrame\n",
       "Columns: [Open, High, Low, Close, Volume, Dividends, Stock Splits]\n",
       "Index: []"
      ]
     },
     "execution_count": 13,
     "metadata": {},
     "output_type": "execute_result"
    }
   ],
   "source": [
    "df_MCD[df_MCD['Dividends'] == 0.57]"
   ]
  },
  {
   "cell_type": "markdown",
   "metadata": {},
   "source": [
    "ternyata isi kolom Dividends sama Stock Splits ga penting, bisa di-Drop"
   ]
  },
  {
   "cell_type": "code",
   "execution_count": 15,
   "metadata": {},
   "outputs": [],
   "source": [
    "df_MCD = df_MCD.drop(['Dividends', 'Stock Splits'], axis= 1) # Run 1 kali aja, karena perubahannya Inplace"
   ]
  },
  {
   "cell_type": "code",
   "execution_count": 17,
   "metadata": {},
   "outputs": [
    {
     "name": "stdout",
     "output_type": "stream",
     "text": [
      "                                 Open        High         Low       Close  \\\n",
      "Date                                                                        \n",
      "2023-01-03 00:00:00-05:00  259.239921  260.046580  255.285375  260.026886   \n",
      "2023-01-04 00:00:00-05:00  261.915613  262.210717  258.610326  260.085907   \n",
      "2023-01-05 00:00:00-05:00  260.449892  260.449892  257.124911  257.892212   \n",
      "2023-01-06 00:00:00-05:00  259.466185  265.496397  259.102213  265.083221   \n",
      "2023-01-09 00:00:00-05:00  265.535717  265.555411  262.427156  262.899353   \n",
      "\n",
      "                            Volume  \n",
      "Date                                \n",
      "2023-01-03 00:00:00-05:00  2743800  \n",
      "2023-01-04 00:00:00-05:00  2584100  \n",
      "2023-01-05 00:00:00-05:00  1945600  \n",
      "2023-01-06 00:00:00-05:00  2855400  \n",
      "2023-01-09 00:00:00-05:00  2654600  \n",
      "(225, 5)\n"
     ]
    }
   ],
   "source": [
    "print(df_MCD.head())\n",
    "print(df_MCD.shape)"
   ]
  },
  {
   "cell_type": "code",
   "execution_count": 18,
   "metadata": {},
   "outputs": [
    {
     "data": {
      "text/html": [
       "<div>\n",
       "<style scoped>\n",
       "    .dataframe tbody tr th:only-of-type {\n",
       "        vertical-align: middle;\n",
       "    }\n",
       "\n",
       "    .dataframe tbody tr th {\n",
       "        vertical-align: top;\n",
       "    }\n",
       "\n",
       "    .dataframe thead th {\n",
       "        text-align: right;\n",
       "    }\n",
       "</style>\n",
       "<table border=\"1\" class=\"dataframe\">\n",
       "  <thead>\n",
       "    <tr style=\"text-align: right;\">\n",
       "      <th></th>\n",
       "      <th>Open</th>\n",
       "      <th>High</th>\n",
       "      <th>Low</th>\n",
       "      <th>Close</th>\n",
       "      <th>Volume</th>\n",
       "    </tr>\n",
       "  </thead>\n",
       "  <tbody>\n",
       "    <tr>\n",
       "      <th>count</th>\n",
       "      <td>225.000000</td>\n",
       "      <td>225.000000</td>\n",
       "      <td>225.000000</td>\n",
       "      <td>225.000000</td>\n",
       "      <td>2.250000e+02</td>\n",
       "    </tr>\n",
       "    <tr>\n",
       "      <th>mean</th>\n",
       "      <td>275.880291</td>\n",
       "      <td>277.517017</td>\n",
       "      <td>274.080429</td>\n",
       "      <td>275.849437</td>\n",
       "      <td>2.659938e+06</td>\n",
       "    </tr>\n",
       "    <tr>\n",
       "      <th>std</th>\n",
       "      <td>13.449740</td>\n",
       "      <td>13.236839</td>\n",
       "      <td>13.578337</td>\n",
       "      <td>13.380659</td>\n",
       "      <td>8.357119e+05</td>\n",
       "    </tr>\n",
       "    <tr>\n",
       "      <th>min</th>\n",
       "      <td>246.820007</td>\n",
       "      <td>248.809998</td>\n",
       "      <td>245.729996</td>\n",
       "      <td>246.190002</td>\n",
       "      <td>3.392540e+05</td>\n",
       "    </tr>\n",
       "    <tr>\n",
       "      <th>25%</th>\n",
       "      <td>263.342048</td>\n",
       "      <td>265.525878</td>\n",
       "      <td>261.394278</td>\n",
       "      <td>264.178192</td>\n",
       "      <td>2.104300e+06</td>\n",
       "    </tr>\n",
       "    <tr>\n",
       "      <th>50%</th>\n",
       "      <td>278.739990</td>\n",
       "      <td>280.269989</td>\n",
       "      <td>277.418013</td>\n",
       "      <td>279.029999</td>\n",
       "      <td>2.557400e+06</td>\n",
       "    </tr>\n",
       "    <tr>\n",
       "      <th>75%</th>\n",
       "      <td>288.091144</td>\n",
       "      <td>289.429314</td>\n",
       "      <td>286.489718</td>\n",
       "      <td>288.031433</td>\n",
       "      <td>2.943900e+06</td>\n",
       "    </tr>\n",
       "    <tr>\n",
       "      <th>max</th>\n",
       "      <td>296.197542</td>\n",
       "      <td>297.749195</td>\n",
       "      <td>293.740747</td>\n",
       "      <td>296.814209</td>\n",
       "      <td>6.305100e+06</td>\n",
       "    </tr>\n",
       "  </tbody>\n",
       "</table>\n",
       "</div>"
      ],
      "text/plain": [
       "             Open        High         Low       Close        Volume\n",
       "count  225.000000  225.000000  225.000000  225.000000  2.250000e+02\n",
       "mean   275.880291  277.517017  274.080429  275.849437  2.659938e+06\n",
       "std     13.449740   13.236839   13.578337   13.380659  8.357119e+05\n",
       "min    246.820007  248.809998  245.729996  246.190002  3.392540e+05\n",
       "25%    263.342048  265.525878  261.394278  264.178192  2.104300e+06\n",
       "50%    278.739990  280.269989  277.418013  279.029999  2.557400e+06\n",
       "75%    288.091144  289.429314  286.489718  288.031433  2.943900e+06\n",
       "max    296.197542  297.749195  293.740747  296.814209  6.305100e+06"
      ]
     },
     "execution_count": 18,
     "metadata": {},
     "output_type": "execute_result"
    }
   ],
   "source": [
    "df_MCD.describe()\n"
   ]
  },
  {
   "cell_type": "code",
   "execution_count": 19,
   "metadata": {},
   "outputs": [],
   "source": [
    "df_MCD.to_csv('dataset/stock_MCD_ytd',sep=';', index=True, header=True)# 1 kali Run"
   ]
  }
 ],
 "metadata": {
  "kernelspec": {
   "display_name": "Python 3",
   "language": "python",
   "name": "python3"
  },
  "language_info": {
   "codemirror_mode": {
    "name": "ipython",
    "version": 3
   },
   "file_extension": ".py",
   "mimetype": "text/x-python",
   "name": "python",
   "nbconvert_exporter": "python",
   "pygments_lexer": "ipython3",
   "version": "3.9.6"
  }
 },
 "nbformat": 4,
 "nbformat_minor": 2
}
