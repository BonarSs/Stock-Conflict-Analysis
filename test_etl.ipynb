{
 "cells": [
  {
   "cell_type": "code",
   "execution_count": 211,
   "metadata": {},
   "outputs": [],
   "source": [
    "import yfinance as yf\n",
    "from apify_client import ApifyClient\n",
    "import pandas as pd\n"
   ]
  },
  {
   "cell_type": "markdown",
   "metadata": {},
   "source": [
    "# Fetch Stock Data"
   ]
  },
  {
   "cell_type": "code",
   "execution_count": 212,
   "metadata": {},
   "outputs": [],
   "source": [
    "def get_stocksData(tickers_name):\n",
    "    tickers_stock_merged= pd.DataFrame()\n",
    "\n",
    "    for index,stock in enumerate(tickers_name):\n",
    "        ticker= yf.Ticker(stock)\n",
    "        ticker_stock = ticker.history(period='1mo')\n",
    "        ticker_stock['day']= ticker_stock.index.day\n",
    "        ticker_stock['month']= ticker_stock.index.month\n",
    "        ticker_stock['year']= ticker_stock.index.year\n",
    "        ticker_stock['dateTime']= pd.to_datetime(ticker_stock[['year', 'month', 'day']])\n",
    "        ticker_stock= ticker_stock.set_index(keys='dateTime')\n",
    "        ticker_stock= ticker_stock[['Close']]\n",
    "        ticker_stock.columns= [stock]\n",
    "        ticker_stock= pd.DataFrame(ticker_stock)    \n",
    "\n",
    "        if index == 0:\n",
    "            tickers_stock_merged= pd.DataFrame(ticker_stock)\n",
    "        else:\n",
    "            tickers_stock_merged= pd.merge(tickers_stock_merged, ticker_stock, left_index= True, right_index= True)\n",
    "                    \n",
    "    \n",
    "    return tickers_stock_merged\n",
    "    \n"
   ]
  },
  {
   "cell_type": "code",
   "execution_count": 213,
   "metadata": {},
   "outputs": [
    {
     "data": {
      "text/html": [
       "<div>\n",
       "<style scoped>\n",
       "    .dataframe tbody tr th:only-of-type {\n",
       "        vertical-align: middle;\n",
       "    }\n",
       "\n",
       "    .dataframe tbody tr th {\n",
       "        vertical-align: top;\n",
       "    }\n",
       "\n",
       "    .dataframe thead th {\n",
       "        text-align: right;\n",
       "    }\n",
       "</style>\n",
       "<table border=\"1\" class=\"dataframe\">\n",
       "  <thead>\n",
       "    <tr style=\"text-align: right;\">\n",
       "      <th></th>\n",
       "      <th>MAPI.JK</th>\n",
       "      <th>MAPB.JK</th>\n",
       "      <th>FAST.JK</th>\n",
       "    </tr>\n",
       "    <tr>\n",
       "      <th>dateTime</th>\n",
       "      <th></th>\n",
       "      <th></th>\n",
       "      <th></th>\n",
       "    </tr>\n",
       "  </thead>\n",
       "  <tbody>\n",
       "    <tr>\n",
       "      <th>2023-10-30</th>\n",
       "      <td>1755.0</td>\n",
       "      <td>1915.0</td>\n",
       "      <td>765.0</td>\n",
       "    </tr>\n",
       "    <tr>\n",
       "      <th>2023-10-31</th>\n",
       "      <td>1735.0</td>\n",
       "      <td>1970.0</td>\n",
       "      <td>750.0</td>\n",
       "    </tr>\n",
       "    <tr>\n",
       "      <th>2023-11-01</th>\n",
       "      <td>1605.0</td>\n",
       "      <td>1800.0</td>\n",
       "      <td>740.0</td>\n",
       "    </tr>\n",
       "    <tr>\n",
       "      <th>2023-11-02</th>\n",
       "      <td>1710.0</td>\n",
       "      <td>1860.0</td>\n",
       "      <td>760.0</td>\n",
       "    </tr>\n",
       "    <tr>\n",
       "      <th>2023-11-03</th>\n",
       "      <td>1670.0</td>\n",
       "      <td>1860.0</td>\n",
       "      <td>775.0</td>\n",
       "    </tr>\n",
       "  </tbody>\n",
       "</table>\n",
       "</div>"
      ],
      "text/plain": [
       "            MAPI.JK  MAPB.JK  FAST.JK\n",
       "dateTime                             \n",
       "2023-10-30   1755.0   1915.0    765.0\n",
       "2023-10-31   1735.0   1970.0    750.0\n",
       "2023-11-01   1605.0   1800.0    740.0\n",
       "2023-11-02   1710.0   1860.0    760.0\n",
       "2023-11-03   1670.0   1860.0    775.0"
      ]
     },
     "execution_count": 213,
     "metadata": {},
     "output_type": "execute_result"
    }
   ],
   "source": [
    "tickers= ['MAPI.JK', 'MAPB.JK','FAST.JK']\n",
    "\n",
    "df = get_stocksData(tickers)\n",
    "df.head()"
   ]
  },
  {
   "cell_type": "markdown",
   "metadata": {},
   "source": [
    "# Fetch Trends Data"
   ]
  },
  {
   "cell_type": "code",
   "execution_count": 214,
   "metadata": {},
   "outputs": [],
   "source": [
    "def get_trendsData(API_TOKEN, keywords):    \n",
    "    client = ApifyClient(API_TOKEN)\n",
    "    df_trends = pd.DataFrame()\n",
    "\n",
    "    for j, trend in enumerate(keywords):\n",
    "        run_input = {\n",
    "            \"searchTerms\": [trend],\n",
    "            \"isMultiple\": False,\n",
    "            \"timeRange\": \"today 1-m\",\n",
    "            \"geo\": \"\",\n",
    "            \"viewedFrom\": \"id\",\n",
    "            \"skipDebugScreen\": False,\n",
    "            \"isPublic\": False,\n",
    "            \"category\": \"\",\n",
    "            \"maxItems\": 0,\n",
    "            \"extendOutputFunction\": \"\"\"($) => {\n",
    "            const result = {};\n",
    "\n",
    "            return result;\n",
    "        }\"\"\",\n",
    "            \"outputAsISODate\": True,\n",
    "            \"csvOutput\": False,\n",
    "            \"maxConcurrency\": 10,\n",
    "            \"maxRequestRetries\": 15,\n",
    "            \"pageLoadTimeoutSecs\": 180,\n",
    "        }\n",
    "\n",
    "        run = client.actor(\"DyNQEYDj9awfGQf9A\").call(run_input=run_input)\n",
    "\n",
    "        items_list = []\n",
    "\n",
    "        for item in client.dataset(run[\"defaultDatasetId\"]).iterate_items():\n",
    "            row = {}\n",
    "            for key, value in item.items():\n",
    "                row['Key'] = key\n",
    "                row['Value'] = value\n",
    "                items_list.append(row.copy())\n",
    "\n",
    "        df_trend = pd.DataFrame(items_list)\n",
    "        df_trend.columns = df_trend.iloc[0]\n",
    "        df_trend = df_trend[1:]\n",
    "        df_trend = df_trend.reset_index(drop=True)\n",
    "\n",
    "        df_trend['Term / Date'] = pd.to_datetime(df_trend['Term / Date'])\n",
    "        df_trend['day'] = df_trend['Term / Date'].dt.day\n",
    "        df_trend['month'] = df_trend['Term / Date'].dt.month\n",
    "        df_trend['year'] = df_trend['Term / Date'].dt.year\n",
    "        df_trend['datetime'] = pd.to_datetime(df_trend[['year', 'month', 'day']])\n",
    "        df_trend = df_trend.set_index('datetime')\n",
    "        df_trend = df_trend[[trend]]\n",
    "\n",
    "        if j == 0:\n",
    "            df_trends = df_trend\n",
    "        else:\n",
    "            df_trends = pd.merge(df_trends, df_trend, left_index=True, right_index=True)\n",
    "\n",
    "    for col in df_trend.columns:\n",
    "        df_trend[col] = df_trend[col].astype(int)\n",
    "\n",
    "    return df_trends\n"
   ]
  },
  {
   "cell_type": "code",
   "execution_count": 215,
   "metadata": {},
   "outputs": [],
   "source": [
    "token = \"apify_api_EvEL4Oawoze0LxkvZ831rW4SQYunIv1Iku30\"\n",
    "kataKunci = ['palestina', 'israel', 'boikot']\n",
    "\n",
    "trends= get_trendsData(API_TOKEN= token, keywords= kataKunci)"
   ]
  },
  {
   "cell_type": "code",
   "execution_count": 222,
   "metadata": {},
   "outputs": [
    {
     "name": "stdout",
     "output_type": "stream",
     "text": [
      "<class 'pandas.core.frame.DataFrame'>\n",
      "DatetimeIndex: 28 entries, 2023-10-28 to 2023-11-24\n",
      "Data columns (total 3 columns):\n",
      " #   Column     Non-Null Count  Dtype\n",
      "---  ------     --------------  -----\n",
      " 0   palestina  28 non-null     int64\n",
      " 1   israel     28 non-null     int64\n",
      " 2   boikot     28 non-null     int64\n",
      "dtypes: int64(3)\n",
      "memory usage: 1.9 KB\n"
     ]
    }
   ],
   "source": [
    "for col in trends.columns:\n",
    "    trends[col]= trends[col].astype('int64')\n",
    "\n",
    "trends.info()"
   ]
  },
  {
   "cell_type": "code",
   "execution_count": 223,
   "metadata": {},
   "outputs": [
    {
     "data": {
      "text/plain": [
       "<Axes: xlabel='datetime'>"
      ]
     },
     "execution_count": 223,
     "metadata": {},
     "output_type": "execute_result"
    },
    {
     "data": {
      "image/png": "[encoded data removed]",
      "text/plain": [
       "<Figure size 432x288 with 1 Axes>"
      ]
     },
     "metadata": {
      "needs_background": "light"
     },
     "output_type": "display_data"
    }
   ],
   "source": [
    "trends.plot()"
   ]
  }
 ],
 "metadata": {
  "kernelspec": {
   "display_name": "Python 3",
   "language": "python",
   "name": "python3"
  },
  "language_info": {
   "codemirror_mode": {
    "name": "ipython",
    "version": 3
   },
   "file_extension": ".py",
   "mimetype": "text/x-python",
   "name": "python",
   "nbconvert_exporter": "python",
   "pygments_lexer": "ipython3",
   "version": "3.9.6"
  }
 },
 "nbformat": 4,
 "nbformat_minor": 2
}
